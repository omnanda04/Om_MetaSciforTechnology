{
  "nbformat": 4,
  "nbformat_minor": 0,
  "metadata": {
    "colab": {
      "provenance": [],
      "authorship_tag": "ABX9TyPVvYXsmHdvYvIlo5/4SNzE",
      "include_colab_link": true
    },
    "kernelspec": {
      "name": "python3",
      "display_name": "Python 3"
    },
    "language_info": {
      "name": "python"
    }
  },
  "cells": [
    {
      "cell_type": "markdown",
      "metadata": {
        "id": "view-in-github",
        "colab_type": "text"
      },
      "source": [
        "<a href=\"https://colab.research.google.com/github/omnanda04/Om_MetaSciforTechnology/blob/main/Pythonbasics.ipynb\" target=\"_parent\"><img src=\"https://colab.research.google.com/assets/colab-badge.svg\" alt=\"Open In Colab\"/></a>"
      ]
    },
    {
      "cell_type": "markdown",
      "source": [
        "1. Hello, World!"
      ],
      "metadata": {
        "id": "PIFlsOtUy7eO"
      }
    },
    {
      "cell_type": "code",
      "execution_count": 1,
      "metadata": {
        "colab": {
          "base_uri": "https://localhost:8080/"
        },
        "id": "3293Nr4Wypyq",
        "outputId": "414a9132-e459-424d-d330-fe29409b6ee7"
      },
      "outputs": [
        {
          "output_type": "stream",
          "name": "stdout",
          "text": [
            "Hello, World!\n"
          ]
        }
      ],
      "source": [
        "print(\"Hello, World!\")"
      ]
    },
    {
      "cell_type": "markdown",
      "source": [
        "2. Variables and Types"
      ],
      "metadata": {
        "id": "IFgLOjp8zCbB"
      }
    },
    {
      "cell_type": "code",
      "source": [
        "x, y = 10, \"Python\"\n",
        "\n",
        "print(f\"Value of x: {x} | Type: {type(x)}\")\n",
        "print(f\"Value of y: {y} | Type: {type(y)}\")"
      ],
      "metadata": {
        "colab": {
          "base_uri": "https://localhost:8080/"
        },
        "id": "NqxvxNazzSHI",
        "outputId": "5fa898df-87e7-463f-f6c4-fdc424ea9e52"
      },
      "execution_count": 2,
      "outputs": [
        {
          "output_type": "stream",
          "name": "stdout",
          "text": [
            "Value of x: 10 | Type: <class 'int'>\n",
            "Value of y: Python | Type: <class 'str'>\n"
          ]
        }
      ]
    },
    {
      "cell_type": "markdown",
      "source": [
        "3. Lists"
      ],
      "metadata": {
        "id": "KKSRCAaezbLI"
      }
    },
    {
      "cell_type": "code",
      "source": [
        "\n",
        "numbers = [10, 20, 30, 40, 50]\n",
        "total_sum = sum(numbers)\n",
        "average = total_sum / len(numbers)\n",
        "print(\"Sum:\", total_sum)\n",
        "print(\"Average:\", average)"
      ],
      "metadata": {
        "colab": {
          "base_uri": "https://localhost:8080/"
        },
        "id": "ZfMfcB9Yzgfx",
        "outputId": "31464fa8-7f46-49b8-b609-edb548932d9d"
      },
      "execution_count": 3,
      "outputs": [
        {
          "output_type": "stream",
          "name": "stdout",
          "text": [
            "Sum: 150\n",
            "Average: 30.0\n"
          ]
        }
      ]
    },
    {
      "cell_type": "markdown",
      "source": [
        "4. Basic Operators"
      ],
      "metadata": {
        "id": "OamkXV-n0HYl"
      }
    },
    {
      "cell_type": "code",
      "source": [
        "number1 = float(input(\"Enter the first number: \"))\n",
        "number2 = float(input(\"Enter the second number: \"))\n",
        "sum_result = number1 + number2\n",
        "difference = number1 - number2\n",
        "product = number1 * number2\n",
        "quotient = number1 / number2 if number2 != 0 else \"Undefined (division by zero)\"\n",
        "print(f\"Sum: {sum_result}\")\n",
        "print(f\"Difference: {difference}\")\n",
        "print(f\"Product: {product}\")\n",
        "print(f\"Quotient: {quotient}\")"
      ],
      "metadata": {
        "colab": {
          "base_uri": "https://localhost:8080/"
        },
        "id": "S3vF0uXZ0P2L",
        "outputId": "7da631e6-9857-450a-9b77-508f10c071f4"
      },
      "execution_count": 4,
      "outputs": [
        {
          "output_type": "stream",
          "name": "stdout",
          "text": [
            "Enter the first number: 7\n",
            "Enter the second number: 8\n",
            "Sum: 15.0\n",
            "Difference: -1.0\n",
            "Product: 56.0\n",
            "Quotient: 0.875\n"
          ]
        }
      ]
    },
    {
      "cell_type": "markdown",
      "source": [
        "5. String Formatting"
      ],
      "metadata": {
        "id": "cWqqj5U70w8a"
      }
    },
    {
      "cell_type": "code",
      "source": [
        "name = \"Sam\"\n",
        "age = 25\n",
        "print(\"%s is %d years old.\" % (name, age))\n",
        "\n",
        "print(\"{} is {} years old.\".format(name, age))\n",
        "\n",
        "print(f\"{name} is {age} years old.\")"
      ],
      "metadata": {
        "colab": {
          "base_uri": "https://localhost:8080/"
        },
        "id": "FMbx3w8504eO",
        "outputId": "013c844f-18d8-4126-bf5c-727ab813277f"
      },
      "execution_count": 16,
      "outputs": [
        {
          "output_type": "stream",
          "name": "stdout",
          "text": [
            "Sam is 25 years old.\n",
            "Sam is 25 years old.\n",
            "Sam is 25 years old.\n"
          ]
        }
      ]
    },
    {
      "cell_type": "markdown",
      "source": [
        "6. Basic String Operations"
      ],
      "metadata": {
        "id": "XWOhOsVz1VqM"
      }
    },
    {
      "cell_type": "code",
      "source": [
        "text = \"Barcelona\"\n",
        "uppercase_text = text.upper()\n",
        "lowercase_text = text.lower()\n",
        "\n",
        "vowels = \"aeiouAEIOU\"\n",
        "vowel_count = 0\n",
        "for char in text:\n",
        "    if char in vowels:\n",
        "        vowel_count += 1\n",
        "reversed_text = text[::-1]\n",
        "\n",
        "print(f\"Uppercase: {uppercase_text}\")\n",
        "print(f\"Lowercase: {lowercase_text}\")\n",
        "print(f\"Number of vowels: {vowel_count}\")\n",
        "print(f\"Reversed: {reversed_text}\")"
      ],
      "metadata": {
        "colab": {
          "base_uri": "https://localhost:8080/"
        },
        "id": "jjJdU1ku1Y6x",
        "outputId": "a3a7f47e-28ef-421c-8fc3-1cf025144174"
      },
      "execution_count": 6,
      "outputs": [
        {
          "output_type": "stream",
          "name": "stdout",
          "text": [
            "Uppercase: BARCELONA\n",
            "Lowercase: barcelona\n",
            "Number of vowels: 4\n",
            "Reversed: anolecraB\n"
          ]
        }
      ]
    },
    {
      "cell_type": "markdown",
      "source": [
        "7. Conditions"
      ],
      "metadata": {
        "id": "0cGDdTBQ2Hd9"
      }
    },
    {
      "cell_type": "code",
      "source": [
        "num = int(input(\"Enter a number: \"))\n",
        "\n",
        "if num % 2 == 0:\n",
        "    print(f\"{num} is an even number.\")\n",
        "else:\n",
        "    print(f\"{num} is an odd number.\")"
      ],
      "metadata": {
        "colab": {
          "base_uri": "https://localhost:8080/"
        },
        "id": "hFBag_po2LoF",
        "outputId": "e0f5de34-3c4a-41fd-c8e6-b507d3674979"
      },
      "execution_count": 7,
      "outputs": [
        {
          "output_type": "stream",
          "name": "stdout",
          "text": [
            "Enter a number: 9\n",
            "9 is an odd number.\n"
          ]
        }
      ]
    },
    {
      "cell_type": "markdown",
      "source": [
        "8. Loops"
      ],
      "metadata": {
        "id": "lvsVouwO2W96"
      }
    },
    {
      "cell_type": "code",
      "source": [
        "print(\"Prime numbers between 1 and 50:\")\n",
        "for num in range(1, 51):\n",
        "    if num > 1:\n",
        "        for i in range(2, num):\n",
        "            if num % i == 0:\n",
        "                break\n",
        "        else:\n",
        "            print(num, end=\" \")"
      ],
      "metadata": {
        "colab": {
          "base_uri": "https://localhost:8080/"
        },
        "id": "rSKV5pL62ad2",
        "outputId": "1122eb58-8a56-412c-a217-7491a67a0894"
      },
      "execution_count": 8,
      "outputs": [
        {
          "output_type": "stream",
          "name": "stdout",
          "text": [
            "Prime numbers between 1 and 50:\n",
            "2 3 5 7 11 13 17 19 23 29 31 37 41 43 47 "
          ]
        }
      ]
    },
    {
      "cell_type": "markdown",
      "source": [
        "9. Functions"
      ],
      "metadata": {
        "id": "_c9WDJmu3DdV"
      }
    },
    {
      "cell_type": "code",
      "source": [
        "def factorial(n):\n",
        "    result = 1\n",
        "    for i in range(1, n + 1):\n",
        "        result *= i\n",
        "    return result\n",
        "\n",
        "num = 5\n",
        "result = factorial(num)\n",
        "print(f\"The factorial of {num} is {result}\")"
      ],
      "metadata": {
        "colab": {
          "base_uri": "https://localhost:8080/"
        },
        "id": "xJjY-vuL3Gje",
        "outputId": "b09007f2-3c96-4ae9-943e-aa6d2e3bad76"
      },
      "execution_count": 9,
      "outputs": [
        {
          "output_type": "stream",
          "name": "stdout",
          "text": [
            "The factorial of 5 is 120\n"
          ]
        }
      ]
    },
    {
      "cell_type": "markdown",
      "source": [
        "10. Classes and Objects"
      ],
      "metadata": {
        "id": "4KjVbzZB3fyF"
      }
    },
    {
      "cell_type": "code",
      "source": [
        "class Car:\n",
        "    def __init__(self, brand, model, year):\n",
        "        self.brand = brand\n",
        "        self.model = model\n",
        "        self.year = year\n",
        "\n",
        "    def display_info(self):\n",
        "        print(f\"Car Details: {self.year} {self.brand} {self.model}\")\n",
        "\n",
        "\n",
        "my_car = Car(\"Maserati\", \"GranTurismo\", 2025)\n",
        "\n",
        "my_car.display_info()"
      ],
      "metadata": {
        "colab": {
          "base_uri": "https://localhost:8080/"
        },
        "id": "ZYureQFy3jDc",
        "outputId": "eb7278c7-c25f-45f3-db79-da6b9b81a676"
      },
      "execution_count": 10,
      "outputs": [
        {
          "output_type": "stream",
          "name": "stdout",
          "text": [
            "Car Details: 2025 Maserati GranTurismo\n"
          ]
        }
      ]
    },
    {
      "cell_type": "markdown",
      "source": [
        "11. Dictionaries"
      ],
      "metadata": {
        "id": "JLXvS7te4lsF"
      }
    },
    {
      "cell_type": "code",
      "source": [
        "students = {\"Rohit\": 85, \"Rohan\": 92, \"Raj\": 78}\n",
        "\n",
        "print(\"Student Scores:\", students)\n",
        "\n",
        "\n",
        "highest_score = max(students.values())\n",
        "\n",
        "print(f\"Highest Score: {highest_score}\")"
      ],
      "metadata": {
        "colab": {
          "base_uri": "https://localhost:8080/"
        },
        "id": "hwxP4nrP4pCF",
        "outputId": "0466a3ae-db73-4e7c-e0b2-1af6cc5f232d"
      },
      "execution_count": 12,
      "outputs": [
        {
          "output_type": "stream",
          "name": "stdout",
          "text": [
            "Student Scores: {'Rohit': 85, 'Rohan': 92, 'Raj': 78}\n",
            "Highest Score: 92\n"
          ]
        }
      ]
    },
    {
      "cell_type": "markdown",
      "source": [
        "12. Modules and Packages"
      ],
      "metadata": {
        "id": "1VwpE8nb5JjG"
      }
    },
    {
      "cell_type": "code",
      "source": [
        "import math\n",
        "\n",
        "num = int(input(\"Enter a number:  \"))\n",
        "\n",
        "\n",
        "square_root = math.sqrt(num)\n",
        "factorial = math.factorial(num)\n",
        "\n",
        "\n",
        "print(f\"Square root of {num} is {square_root}\")\n",
        "print(f\"Factorial of {num} is {factorial}\")"
      ],
      "metadata": {
        "colab": {
          "base_uri": "https://localhost:8080/"
        },
        "id": "bMKixMcF5NIw",
        "outputId": "b4175b70-407e-4b2d-cf4f-eb4bfb5e2cbf"
      },
      "execution_count": 17,
      "outputs": [
        {
          "output_type": "stream",
          "name": "stdout",
          "text": [
            "Enter a number:  7\n",
            "Square root of 7 is 2.6457513110645907\n",
            "Factorial of 7 is 5040\n"
          ]
        }
      ]
    },
    {
      "cell_type": "markdown",
      "source": [
        "13. Input and Output"
      ],
      "metadata": {
        "id": "RAmm4VbU5gZD"
      }
    },
    {
      "cell_type": "code",
      "source": [
        "name = input(\"Enter your name:  \")\n",
        "age = input(\"Enter your age: \")\n",
        "\n",
        "\n",
        "print(f\"Hello {name}, you are {age} years old!\")"
      ],
      "metadata": {
        "colab": {
          "base_uri": "https://localhost:8080/"
        },
        "id": "n09vXwvB5jJX",
        "outputId": "9eeb6398-6b66-4c9c-afc3-fd364a4f996a"
      },
      "execution_count": 18,
      "outputs": [
        {
          "output_type": "stream",
          "name": "stdout",
          "text": [
            "Enter your name:  bobby\n",
            "Enter your age: 67\n",
            "Hello bobby, you are 67 years old!\n"
          ]
        }
      ]
    },
    {
      "cell_type": "markdown",
      "source": [],
      "metadata": {
        "id": "Yk5SGVgM0PZ0"
      }
    }
  ]
}