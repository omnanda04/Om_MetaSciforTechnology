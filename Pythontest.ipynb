{
  "nbformat": 4,
  "nbformat_minor": 0,
  "metadata": {
    "colab": {
      "provenance": [],
      "authorship_tag": "ABX9TyPG684dh/ogNB0e9pVSAiF1",
      "include_colab_link": true
    },
    "kernelspec": {
      "name": "python3",
      "display_name": "Python 3"
    },
    "language_info": {
      "name": "python"
    }
  },
  "cells": [
    {
      "cell_type": "markdown",
      "metadata": {
        "id": "view-in-github",
        "colab_type": "text"
      },
      "source": [
        "<a href=\"https://colab.research.google.com/github/omnanda04/Om_MetaSciforTechnology/blob/main/Pythontest.ipynb\" target=\"_parent\"><img src=\"https://colab.research.google.com/assets/colab-badge.svg\" alt=\"Open In Colab\"/></a>"
      ]
    },
    {
      "cell_type": "markdown",
      "source": [
        "Python questions"
      ],
      "metadata": {
        "id": "7QazeID7N4sw"
      }
    },
    {
      "cell_type": "markdown",
      "source": [
        "1. Write a Python program to check if a number is even or odd.\n"
      ],
      "metadata": {
        "id": "550R790bJcEC"
      }
    },
    {
      "cell_type": "code",
      "execution_count": 1,
      "metadata": {
        "colab": {
          "base_uri": "https://localhost:8080/"
        },
        "id": "kTZvCmChJaf9",
        "outputId": "672e23cd-7311-439d-ecc9-c119ed8a323d"
      },
      "outputs": [
        {
          "output_type": "stream",
          "name": "stdout",
          "text": [
            "Enter a number: 65\n",
            "65 is odd.\n"
          ]
        }
      ],
      "source": [
        "def check_even_odd(num):\n",
        "    if num % 2 == 0:\n",
        "        print(f\"{num} is even.\")\n",
        "    else:\n",
        "        print(f\"{num} is odd.\")\n",
        "\n",
        "# Taking input from the user\n",
        "num = int(input(\"Enter a number: \"))\n",
        "check_even_odd(num)"
      ]
    },
    {
      "cell_type": "markdown",
      "source": [
        "2. Write a Python function to reverse a string without using built-in functions.\n"
      ],
      "metadata": {
        "id": "xqzytzQoJ4uK"
      }
    },
    {
      "cell_type": "code",
      "source": [
        "def reverse_text(text):\n",
        "    reversed_text = \"\"\n",
        "    for letter in text:\n",
        "        reversed_text = letter + reversed_text\n",
        "    return reversed_text\n",
        "\n",
        "\n",
        "original_text = input(\"Enter a word or phrase: \")\n",
        "print(\"Reversed output:\", reverse_text(original_text))"
      ],
      "metadata": {
        "colab": {
          "base_uri": "https://localhost:8080/"
        },
        "id": "dn8addDuKD4c",
        "outputId": "0b34ed69-f265-4f3c-eaed-801f1b9aaa2e"
      },
      "execution_count": 3,
      "outputs": [
        {
          "output_type": "stream",
          "name": "stdout",
          "text": [
            "Enter a word or phrase: barcelona\n",
            "Reversed output: anolecrab\n"
          ]
        }
      ]
    },
    {
      "cell_type": "markdown",
      "source": [
        "3. Write a Python program to find the largest number in a given list.\n"
      ],
      "metadata": {
        "id": "O54vsD3jKv0r"
      }
    },
    {
      "cell_type": "code",
      "source": [
        "def find_largest(numbers):\n",
        "    if not numbers:\n",
        "        return \"List is empty\"\n",
        "\n",
        "    largest = numbers[0]\n",
        "    for num in numbers:\n",
        "        if num > largest:\n",
        "            largest = num\n",
        "    return largest\n",
        "\n",
        "\n",
        "number_list = [19, 45, 66, 89, 79, 32]\n",
        "print(\"The largest number is:\", find_largest(number_list))"
      ],
      "metadata": {
        "colab": {
          "base_uri": "https://localhost:8080/"
        },
        "id": "i4XOsldKLBdn",
        "outputId": "9e3056fc-0a0e-4f69-f322-3580828ce8de"
      },
      "execution_count": 4,
      "outputs": [
        {
          "output_type": "stream",
          "name": "stdout",
          "text": [
            "The largest number is: 89\n"
          ]
        }
      ]
    },
    {
      "cell_type": "markdown",
      "source": [
        "4. Write a Python function to check if a given string is a palindrome.\n"
      ],
      "metadata": {
        "id": "H81OF4n0MHdS"
      }
    },
    {
      "cell_type": "code",
      "source": [
        "def is_palindrome(text):\n",
        "    return text == text[::-1]\n",
        "\n",
        "\n",
        "word = input(\"Enter a word: \")\n",
        "if is_palindrome(word):\n",
        "    print(\"It's a palindrome!\")\n",
        "else:\n",
        "    print(\"Not a palindrome.\")"
      ],
      "metadata": {
        "colab": {
          "base_uri": "https://localhost:8080/"
        },
        "id": "mOyMHcFbMPVd",
        "outputId": "d441ba2e-8774-4f8a-b636-68555e361546"
      },
      "execution_count": 5,
      "outputs": [
        {
          "output_type": "stream",
          "name": "stdout",
          "text": [
            "Enter a word: ubabu\n",
            "It's a palindrome!\n"
          ]
        }
      ]
    },
    {
      "cell_type": "markdown",
      "source": [
        "5. Write a Python program to count the occurrences of each character in a given string.\n"
      ],
      "metadata": {
        "id": "yw2z-mQEMrMh"
      }
    },
    {
      "cell_type": "code",
      "source": [
        "\n",
        "word = input(\"Enter a string: \")\n",
        "\n",
        "\n",
        "char_counts = {}\n",
        "\n",
        "for char in word:\n",
        "    found = False\n",
        "\n",
        "    for key in char_counts:\n",
        "        if key == char:\n",
        "            char_counts[key] += 1\n",
        "            found = True\n",
        "            break\n",
        "\n",
        "    if not found:\n",
        "        char_counts[char] = 1\n",
        "\n",
        "\n",
        "for char, count in char_counts.items():\n",
        "    print(f\"'{char}' appears {count} times\")\n"
      ],
      "metadata": {
        "colab": {
          "base_uri": "https://localhost:8080/"
        },
        "id": "vqAaQl66MxbO",
        "outputId": "8d2a0053-8187-478f-8991-bb0e4a0e7dff"
      },
      "execution_count": 7,
      "outputs": [
        {
          "output_type": "stream",
          "name": "stdout",
          "text": [
            "Enter a string: naughty\n",
            "'n' appears 1 times\n",
            "'a' appears 1 times\n",
            "'u' appears 1 times\n",
            "'g' appears 1 times\n",
            "'h' appears 1 times\n",
            "'t' appears 1 times\n",
            "'y' appears 1 times\n"
          ]
        }
      ]
    },
    {
      "cell_type": "markdown",
      "source": [
        "OOPs Questions"
      ],
      "metadata": {
        "id": "CrMd5cuVN13M"
      }
    },
    {
      "cell_type": "markdown",
      "source": [
        "1. What is the difference between a class and an object in Python?\n",
        "Ans : Definition:\n",
        "\n",
        "A class is a blueprint or template that defines the properties (attributes) and behaviors (methods) of an object.\n",
        "An object is an instance of a class, meaning it is a real entity created based on the class definition.\n",
        "Purpose:\n",
        "\n",
        "A class is used to create objects and define how they should behave.\n",
        "An object is used to store data and perform operations as defined in the class.\n",
        "\n",
        "Memory Usage:\n",
        "\n",
        "A class itself does not occupy memory until an object is created.\n",
        "An object takes up memory because it holds actual values for the attributes defined in the class.\n",
        "\n",
        "Attributes & Methods:\n",
        "\n",
        "A class only defines attributes (variables) and methods (functions), but does not store values.\n",
        "An object stores specific values for those attributes and can use the methods to perform tasks.\n",
        "\n",
        "Example in Real Life:\n",
        "\n",
        "A class is like a car blueprint that defines what a car should have (e.g., color, engine, wheels).\n",
        "An object is a specific car (e.g., a red Tesla with an electric engine)."
      ],
      "metadata": {
        "id": "Vo9qshUuN_fW"
      }
    },
    {
      "cell_type": "markdown",
      "source": [
        "2. Explain the concept of inheritance with an example in Python.\n",
        "Ans : Inheritance is a concept in object-oriented programming where a class (child class) can inherit properties and methods from another class (parent class). This helps in code reusability and organization.\n",
        "The parent class (base class) contains common properties and methods.\n",
        " The child class (derived class) inherits these properties and methods from the parent.\n",
        " The child class can also have its own unique methods or override parent methods.\n",
        ""
      ],
      "metadata": {
        "id": "kB_bpUJzPc96"
      }
    },
    {
      "cell_type": "code",
      "source": [
        "class Car:\n",
        "    def __init__(self, brand, model):\n",
        "        self.brand = brand\n",
        "        self.model = model\n",
        "\n",
        "    def drive(self):\n",
        "        print(f\"The {self.brand} {self.model} is driving.\")\n",
        "\n",
        "# Child class (Derived class) inheriting from Car\n",
        "class ElectricCar(Car):\n",
        "    def __init__(self, brand, model, battery_capacity):\n",
        "        super().__init__(brand, model)  # Inherit from parent class\n",
        "        self.battery_capacity = battery_capacity  # New attribute\n",
        "\n",
        "    def charge(self):\n",
        "        print(f\"The {self.brand} {self.model} is charging. Battery: {self.battery_capacity} kWh.\")\n",
        "\n",
        "# Creating objects\n",
        "car1 = Car(\"Toyota\", \"Corrola\")  # Normal car\n",
        "car2 = ElectricCar(\"Tesla\", \"Model S\", 100)  # Electric car\n",
        "\n",
        "# Calling methods\n",
        "car1.drive()\n",
        "car2.drive()\n",
        "car2.charge()"
      ],
      "metadata": {
        "colab": {
          "base_uri": "https://localhost:8080/"
        },
        "id": "Bl4FkfYZQEsq",
        "outputId": "ae30161d-42e9-450d-f5fe-8271f3f62fb8"
      },
      "execution_count": 8,
      "outputs": [
        {
          "output_type": "stream",
          "name": "stdout",
          "text": [
            "The Toyota Corrola is driving.\n",
            "The Tesla Model S is driving.\n",
            "The Tesla Model S is charging. Battery: 100 kWh.\n"
          ]
        }
      ]
    },
    {
      "cell_type": "markdown",
      "source": [
        "The Car class (Parent) defines common features like brand, model, and drive().\n",
        "The ElectricCar class (Child) inherits these features but adds battery_capacity and a new method charge().\n",
        "This shows inheritance"
      ],
      "metadata": {
        "id": "Pg-DVCB5QSjq"
      }
    },
    {
      "cell_type": "markdown",
      "source": [
        "3. What is method overriding in Python? Provide an example.\n",
        "Ans : Method overriding occurs when a child class provides a different implementation of a method that is already defined in its parent class. This allows the child class to modify or extend the behavior of the inherited method."
      ],
      "metadata": {
        "id": "QvVpkwblQpNG"
      }
    },
    {
      "cell_type": "code",
      "source": [
        "class Car:\n",
        "    def drive(self):\n",
        "        print(\"The car is driving.\")\n",
        "\n",
        "# Child class overriding the drive method\n",
        "class ElectricCar(Car):\n",
        "    def drive(self):\n",
        "        print(\"The electric car is driving silently.\")\n",
        "\n",
        "# Creating objects\n",
        "car1 = Car()\n",
        "car2 = ElectricCar()\n",
        "\n",
        "# Calling drive method\n",
        "car1.drive()\n",
        "car2.drive()"
      ],
      "metadata": {
        "colab": {
          "base_uri": "https://localhost:8080/"
        },
        "id": "sxTFP3_DQ8TN",
        "outputId": "f9911d69-46b0-4073-d8b1-3f584eed050a"
      },
      "execution_count": 9,
      "outputs": [
        {
          "output_type": "stream",
          "name": "stdout",
          "text": [
            "The car is driving.\n",
            "The electric car is driving silently.\n"
          ]
        }
      ]
    },
    {
      "cell_type": "markdown",
      "source": [
        "In the above example, the ElectricCar class overrides the drive() method of the Car class to provide a different behavior. When calling drive() on an ElectricCar object, the child class method executes instead of the parent’s method."
      ],
      "metadata": {
        "id": "LLMy2bPkRDVP"
      }
    },
    {
      "cell_type": "markdown",
      "source": [
        "4. What is the difference between an instance method, class method, and static method in Python?\n",
        "Ans : Instance Method:\n",
        "\n",
        "It operates on an instance (object) of the class.\n",
        "It has access to instance attributes and methods using self.\n",
        "It can modify object-specific data.\n",
        "Defined using def method_name(self):.\n",
        "\n",
        "Class Method:\n",
        "\n",
        "It operates on the class itself rather than instances.\n",
        "It has access to class-level attributes using cls.\n",
        "It can modify class-level data but not instance-specific data.\n",
        "Defined using @classmethod and def method_name(cls):.\n",
        "\n",
        "Static Method:\n",
        "\n",
        "It does not operate on the instance or the class.\n",
        "It is just a regular function inside a class that does not use self or cls.\n",
        "It cannot modify instance or class attributes.\n",
        "Defined using @staticmethod and def method_name():."
      ],
      "metadata": {
        "id": "t9FY7sAbRM9J"
      }
    },
    {
      "cell_type": "markdown",
      "source": [
        "5. Explain the significance of encapsulation in Python with an example.\n",
        "Ans : Encapsulation is a key concept in object-oriented programming that restricts direct access to the internal details of an object. It helps in data hiding, protecting object integrity, and controlling modifications through getter and setter methods.\n",
        "1 Prevents accidental modification of important data.\n",
        "2 Controls access to sensitive attributes.\n",
        "3 Encourages modular code by keeping implementation details hidden.\n",
        "4 Improves security by restricting direct manipulation of attributes."
      ],
      "metadata": {
        "id": "fKVEw-VcSH6T"
      }
    },
    {
      "cell_type": "code",
      "source": [
        "class Car:\n",
        "    def __init__(self, brand, speed):\n",
        "        self.brand = brand       # Public attribute\n",
        "        self.__speed = speed     # Private attribute (Encapsulation)\n",
        "\n",
        "    def get_speed(self):         # Getter method\n",
        "        return self.__speed\n",
        "\n",
        "    def set_speed(self, speed):  # Setter method\n",
        "        if speed > 0:\n",
        "            self.__speed = speed\n",
        "        else:\n",
        "            print(\"Speed must be positive!\")\n",
        "\n",
        "# Creating an object\n",
        "car1 = Car(\"Toyota\", 120)\n",
        "\n",
        "# accessing  private attribute through getter\n",
        "print(car1.get_speed())\n",
        "\n",
        "# modifying private attribute using setter\n",
        "car1.set_speed(150)\n",
        "print(car1.get_speed())  #\n",
        "\n",
        "# if we try  to access private attribute directly (will cause an error)\n",
        "# print(car1.__speed)  # AttributeError: 'Car' object has no attribute '__speed'"
      ],
      "metadata": {
        "colab": {
          "base_uri": "https://localhost:8080/"
        },
        "id": "BnZORofySvTZ",
        "outputId": "12faf54e-b9b8-4e74-a63f-f11219146154"
      },
      "execution_count": 10,
      "outputs": [
        {
          "output_type": "stream",
          "name": "stdout",
          "text": [
            "120\n",
            "150\n"
          ]
        }
      ]
    },
    {
      "cell_type": "markdown",
      "source": [
        "Encapsulation restricts direct access to the private attribute __speed, ensuring controlled modifications using getter (get_speed()) and setter (set_speed()) methods. This protects data integrity and prevents invalid values from being assigned."
      ],
      "metadata": {
        "id": "FWPJTBQ9TBmP"
      }
    }
  ]
}